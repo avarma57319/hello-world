{
 "cells": [
  {
   "cell_type": "code",
   "execution_count": 1,
   "id": "627e8d4a",
   "metadata": {},
   "outputs": [],
   "source": [
    "# run Nsfg.py"
   ]
  },
  {
   "cell_type": "code",
   "execution_count": 2,
   "id": "89529b23",
   "metadata": {},
   "outputs": [],
   "source": [
    "from __future__ import print_function, division\n",
    "\n",
    "import sys\n",
    "import numpy as np\n",
    "import thinkstats2\n",
    "\n",
    "from collections import defaultdict"
   ]
  },
  {
   "cell_type": "code",
   "execution_count": 3,
   "id": "13fade22",
   "metadata": {},
   "outputs": [],
   "source": [
    "import scipy.stats"
   ]
  },
  {
   "cell_type": "code",
   "execution_count": 4,
   "id": "5f41f62f",
   "metadata": {},
   "outputs": [],
   "source": [
    "#Exercise: In the BRFSS (see lognormal distribution on page 56), the distribution of heights is roughly normal with parameters \n",
    "#µ = 178 cm and σ = 7.7 cm for men, and µ = 163 cm and σ = 7.3 cm for women.\n",
    "#In order to join Blue Man Group, you have to be male between 5’10” and 6’1” (see http://bluemancasting.com). \n",
    "#What percentage of the U.S. male population is in this range? \n",
    "#Hint: use scipy.stats.norm.cdf."
   ]
  },
  {
   "cell_type": "code",
   "execution_count": 5,
   "id": "1f6dff6b",
   "metadata": {},
   "outputs": [
    {
     "data": {
      "text/plain": [
       "scipy.stats._distn_infrastructure.rv_frozen"
      ]
     },
     "execution_count": 5,
     "metadata": {},
     "output_type": "execute_result"
    }
   ],
   "source": [
    "# calculating for population - Men\n",
    "\n",
    "m_u = 178\n",
    "sig = 7.7\n",
    "distribution = scipy.stats.norm(loc=m_u,scale=sig)\n",
    "type(distribution)"
   ]
  },
  {
   "cell_type": "code",
   "execution_count": 6,
   "id": "62ceaf10",
   "metadata": {},
   "outputs": [
    {
     "data": {
      "text/plain": [
       "scipy.stats._distn_infrastructure.rv_frozen"
      ]
     },
     "execution_count": 6,
     "metadata": {},
     "output_type": "execute_result"
    }
   ],
   "source": [
    "# calculating for population - Women\n",
    "\n",
    "m_u1 = 163\n",
    "sig1 = 7.3\n",
    "distribution1 = scipy.stats.norm(loc=m_u1,scale=sig1)\n",
    "type(distribution1)"
   ]
  },
  {
   "cell_type": "code",
   "execution_count": 7,
   "id": "16917398",
   "metadata": {},
   "outputs": [
    {
     "data": {
      "text/plain": [
       "0.1586552539314574"
      ]
     },
     "execution_count": 7,
     "metadata": {},
     "output_type": "execute_result"
    }
   ],
   "source": [
    "# Calculating for US Male population\n",
    "\n",
    "# Converting 5'10\" = 155.44 cms\n",
    "# Converting 6'1\" = 185.92 cms\n",
    "\n",
    "#Find CDF\n",
    "distribution.cdf(m_u-sig)"
   ]
  },
  {
   "cell_type": "code",
   "execution_count": 8,
   "id": "be02a297",
   "metadata": {},
   "outputs": [
    {
     "data": {
      "text/plain": [
       "(0.0016955184781144161, 0.8481594451388399, 0.8464639266607255)"
      ]
     },
     "execution_count": 8,
     "metadata": {},
     "output_type": "execute_result"
    }
   ],
   "source": [
    "# Calculating for US Male population\n",
    "\n",
    "min_height = distribution.cdf(155.44)    \n",
    "max_height = distribution.cdf(185.92)   \n",
    "min_height,max_height,max_height-min_height"
   ]
  },
  {
   "cell_type": "code",
   "execution_count": 9,
   "id": "e83241b7",
   "metadata": {},
   "outputs": [],
   "source": [
    "# Approx 0.16% males have height of 5'10\"\n",
    "# Approx 84.81% males have height of 6'1\"\n"
   ]
  },
  {
   "cell_type": "code",
   "execution_count": 10,
   "id": "edf46d32",
   "metadata": {},
   "outputs": [
    {
     "data": {
      "text/plain": [
       "1.5034066538560549"
      ]
     },
     "execution_count": 10,
     "metadata": {},
     "output_type": "execute_result"
    }
   ],
   "source": [
    "# Exercise: To get a feel for the Pareto distribution, let’s see how different the world would be if \n",
    "# the distribution of human height were Pareto. With the parameters xm = 1 m and α = 1.7, \n",
    "# we get a distribution with a reasonable minimum, 1 m, and median, 1.5 m.\n",
    "\n",
    "# Plot this distribution. \n",
    "# What is the mean human height in Pareto world? \n",
    "# What fraction of the population is shorter than the mean? \n",
    "# If there are 7 billion people in Pareto world, how many do we expect to be taller than 1 km? \n",
    "# How tall do we expect the tallest person to be?\n",
    "\n",
    "alpha = 1.7\n",
    "xm = 1       # meter\n",
    "distribution2 = scipy.stats.pareto(b=alpha, scale=xm)\n",
    "distribution2.median()"
   ]
  },
  {
   "cell_type": "code",
   "execution_count": 11,
   "id": "1692c441",
   "metadata": {},
   "outputs": [
    {
     "data": {
      "text/plain": [
       "2.428571428571429"
      ]
     },
     "execution_count": 11,
     "metadata": {},
     "output_type": "execute_result"
    }
   ],
   "source": [
    "# mean height\n",
    "distribution2.mean()"
   ]
  },
  {
   "cell_type": "code",
   "execution_count": 12,
   "id": "89d5235e",
   "metadata": {},
   "outputs": [
    {
     "data": {
      "text/plain": [
       "0.778739697565288"
      ]
     },
     "execution_count": 12,
     "metadata": {},
     "output_type": "execute_result"
    }
   ],
   "source": [
    "# fraction of people shorter in height than mean height\n",
    "\n",
    "distribution2.cdf(distribution2.mean())"
   ]
  },
  {
   "cell_type": "code",
   "execution_count": 14,
   "id": "d4acbba3",
   "metadata": {},
   "outputs": [
    {
     "data": {
      "text/plain": [
       "55602.97643069972"
      ]
     },
     "execution_count": 14,
     "metadata": {},
     "output_type": "execute_result"
    }
   ],
   "source": [
    "#Out of 7 billion people, how many do we expect to be taller than 1 km?\n",
    "\n",
    "distribution2.sf(1000) * 7e9"
   ]
  },
  {
   "cell_type": "code",
   "execution_count": 15,
   "id": "652360a0",
   "metadata": {},
   "outputs": [
    {
     "data": {
      "text/plain": [
       "618349.6106759505"
      ]
     },
     "execution_count": 15,
     "metadata": {},
     "output_type": "execute_result"
    }
   ],
   "source": [
    "# How tall do we expect the tallest person to be?\n",
    "\n",
    "#using probability\n",
    "distribution2.ppf(1 - 1/7e9)"
   ]
  },
  {
   "cell_type": "code",
   "execution_count": 16,
   "id": "c272d8ed",
   "metadata": {},
   "outputs": [],
   "source": [
    "# convert into into meters: 618349.6106/1000 = 618.4Km"
   ]
  },
  {
   "cell_type": "code",
   "execution_count": 4,
   "id": "f032424c",
   "metadata": {},
   "outputs": [],
   "source": []
  },
  {
   "cell_type": "code",
   "execution_count": 5,
   "id": "61e8645b",
   "metadata": {},
   "outputs": [
    {
     "ename": "ModuleNotFoundError",
     "evalue": "No module named 'hinc'",
     "output_type": "error",
     "traceback": [
      "\u001b[1;31m---------------------------------------------------------------------------\u001b[0m",
      "\u001b[1;31mModuleNotFoundError\u001b[0m                       Traceback (most recent call last)",
      "\u001b[1;32m<ipython-input-5-b0702142ad0e>\u001b[0m in \u001b[0;36m<module>\u001b[1;34m\u001b[0m\n\u001b[0;32m      3\u001b[0m \u001b[1;32mimport\u001b[0m \u001b[0mnumpy\u001b[0m \u001b[1;32mas\u001b[0m \u001b[0mnp\u001b[0m\u001b[1;33m\u001b[0m\u001b[1;33m\u001b[0m\u001b[0m\n\u001b[0;32m      4\u001b[0m \u001b[1;33m\u001b[0m\u001b[0m\n\u001b[1;32m----> 5\u001b[1;33m \u001b[1;32mimport\u001b[0m \u001b[0mhinc\u001b[0m\u001b[1;33m\u001b[0m\u001b[1;33m\u001b[0m\u001b[0m\n\u001b[0m\u001b[0;32m      6\u001b[0m \u001b[1;32mimport\u001b[0m \u001b[0mthinkplot\u001b[0m\u001b[1;33m\u001b[0m\u001b[1;33m\u001b[0m\u001b[0m\n\u001b[0;32m      7\u001b[0m \u001b[1;32mimport\u001b[0m \u001b[0mthinkstats2\u001b[0m\u001b[1;33m\u001b[0m\u001b[1;33m\u001b[0m\u001b[0m\n",
      "\u001b[1;31mModuleNotFoundError\u001b[0m: No module named 'hinc'"
     ]
    }
   ],
   "source": [
    "\n"
   ]
  },
  {
   "cell_type": "code",
   "execution_count": 6,
   "id": "61c8c41d",
   "metadata": {},
   "outputs": [],
   "source": []
  },
  {
   "cell_type": "code",
   "execution_count": null,
   "id": "3776aad6",
   "metadata": {},
   "outputs": [],
   "source": []
  }
 ],
 "metadata": {
  "kernelspec": {
   "display_name": "Python 3",
   "language": "python",
   "name": "python3"
  },
  "language_info": {
   "codemirror_mode": {
    "name": "ipython",
    "version": 3
   },
   "file_extension": ".py",
   "mimetype": "text/x-python",
   "name": "python",
   "nbconvert_exporter": "python",
   "pygments_lexer": "ipython3",
   "version": "3.8.8"
  }
 },
 "nbformat": 4,
 "nbformat_minor": 5
}
