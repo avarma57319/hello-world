{
 "cells": [
  {
   "cell_type": "code",
   "execution_count": 1,
   "id": "1d274240",
   "metadata": {},
   "outputs": [],
   "source": [
    "#Exercise: As sample size increases, the power of a hypothesis test increases, \n",
    "#which means it is more likely to be positive if the effect is real. Conversely, as \n",
    "#sample size decreases, the test is less likely to be positive even if the effect is real.\n",
    "#To investigate this behavior, run the tests in this chapter with different subsets \n",
    "#of the NSFG data. You can use thinkstats2.SampleRows to select a random subset of \n",
    "#the rows in a DataFrame.\n",
    "#\n",
    "#What happens to the p-values of these tests as sample size decreases?"
   ]
  },
  {
   "cell_type": "code",
   "execution_count": 2,
   "id": "f48682f7",
   "metadata": {},
   "outputs": [],
   "source": [
    "from __future__ import print_function, division\n",
    "\n",
    "import sys\n",
    "import numpy as np\n",
    "import thinkstats2\n",
    "\n",
    "from collections import defaultdict\n",
    "from __future__ import print_function, division\n",
    "\n",
    "%matplotlib inline\n",
    "\n",
    "import numpy as np\n",
    "\n",
    "import random\n",
    "\n",
    "import thinkstats2\n",
    "import thinkplot\n",
    "\n"
   ]
  },
  {
   "cell_type": "code",
   "execution_count": 3,
   "id": "69ec67fe",
   "metadata": {},
   "outputs": [],
   "source": [
    "# Loading modules\n",
    "import first\n",
    "\n",
    "live, firsts, others = first.MakeFrames()\n",
    "data = firsts.prglngth.values, others.prglngth.values"
   ]
  },
  {
   "cell_type": "code",
   "execution_count": 4,
   "id": "ab2f10be",
   "metadata": {},
   "outputs": [],
   "source": []
  },
  {
   "cell_type": "code",
   "execution_count": 10,
   "id": "91056b5d",
   "metadata": {},
   "outputs": [],
   "source": [
    "# Defining class and functions\n",
    "class DiffMeansPermute(thinkstats2.HypothesisTest):\n",
    "\n",
    "    def TestStatistic(self, data):\n",
    "        group1, group2 = data\n",
    "        test_stat = abs(group1.mean() - group2.mean())\n",
    "        return test_stat\n",
    "\n",
    "    def MakeModel(self):\n",
    "        group1, group2 = self.data\n",
    "        self.n, self.m = len(group1), len(group2)\n",
    "        self.pool = np.hstack((group1, group2))\n",
    "\n",
    "    def RunModel(self):\n",
    "        np.random.shuffle(self.pool)\n",
    "        data = self.pool[:self.n], self.pool[self.n:]\n",
    "        return data"
   ]
  },
  {
   "cell_type": "code",
   "execution_count": 12,
   "id": "0070122f",
   "metadata": {},
   "outputs": [],
   "source": [
    "# creating dataframe for random records with 1000 iterations\n",
    "\n",
    "def RandomTestDataset(live, iters=1000):\n",
    "    n = len(live)\n",
    "    firsts = live[live.birthord == 1]\n",
    "    others = live[live.birthord != 1]"
   ]
  },
  {
   "cell_type": "code",
   "execution_count": 14,
   "id": "4c3717cc",
   "metadata": {},
   "outputs": [],
   "source": []
  },
  {
   "cell_type": "code",
   "execution_count": 16,
   "id": "ec46ae88",
   "metadata": {},
   "outputs": [],
   "source": [
    "# comparing length of pregnancies\n",
    "  \n",
    "data = firsts.prglngth.values, others.prglngth.values\n",
    "ht = DiffMeansPermute(data) ####using function\n",
    "p1 = ht.PValue(iters=1000)\n",
    "data = (firsts.totalwgt_lb.dropna().values,\n",
    "            others.totalwgt_lb.dropna().values)\n",
    "ht = DiffMeansPermute(data)\n",
    "p2 = ht.PValue(iters=1000)"
   ]
  },
  {
   "cell_type": "code",
   "execution_count": 19,
   "id": "b72852fb",
   "metadata": {},
   "outputs": [],
   "source": [
    "# define class \n",
    "\n",
    "class CorrelationPermute(thinkstats2.HypothesisTest):\n",
    "\n",
    "    def TestStatistic(self, data):\n",
    "        xs, ys = data\n",
    "        test_stat = abs(thinkstats2.Corr(xs, ys))\n",
    "        return test_stat\n",
    "\n",
    "    def RunModel(self):\n",
    "        xs, ys = self.data\n",
    "        xs = np.random.permutation(xs)\n",
    "        return xs, ys"
   ]
  },
  {
   "cell_type": "code",
   "execution_count": 22,
   "id": "0fefd489",
   "metadata": {},
   "outputs": [],
   "source": [
    " # test correlation\n",
    "live2 = live.dropna(subset=['agepreg', 'totalwgt_lb'])\n",
    "data = live2.agepreg.values, live2.totalwgt_lb.values\n",
    "ht = CorrelationPermute(data)\n",
    "p3 = ht.PValue(iters=1000)"
   ]
  },
  {
   "cell_type": "code",
   "execution_count": 23,
   "id": "d3cefcb5",
   "metadata": {},
   "outputs": [],
   "source": [
    "# Defining class\n",
    "\n",
    "class PregLengthTest(thinkstats2.HypothesisTest):\n",
    "\n",
    "    def MakeModel(self):\n",
    "        firsts, others = self.data\n",
    "        self.n = len(firsts)\n",
    "        self.pool = np.hstack((firsts, others))\n",
    "\n",
    "        pmf = thinkstats2.Pmf(self.pool)\n",
    "        self.values = range(35, 44)\n",
    "        self.expected_probs = np.array(pmf.Probs(self.values))\n",
    "\n",
    "    def RunModel(self):\n",
    "        np.random.shuffle(self.pool)\n",
    "        data = self.pool[:self.n], self.pool[self.n:]\n",
    "        return data\n",
    "    \n",
    "    def TestStatistic(self, data):\n",
    "        firsts, others = data\n",
    "        stat = self.ChiSquared(firsts) + self.ChiSquared(others)\n",
    "        return stat\n",
    "\n",
    "    def ChiSquared(self, lengths):\n",
    "        hist = thinkstats2.Hist(lengths)\n",
    "        observed = np.array(hist.Freqs(self.values))\n",
    "        expected = self.expected_probs * len(lengths)\n",
    "        stat = sum((observed - expected)**2 / expected)\n",
    "        return stat"
   ]
  },
  {
   "cell_type": "code",
   "execution_count": 26,
   "id": "ff57bed0",
   "metadata": {},
   "outputs": [],
   "source": [
    "  # compare pregnancy lengths (chi-squared)\n",
    "data = firsts.prglngth.values, others.prglngth.values\n",
    "ht = PregLengthTest(data)\n",
    "p4 = ht.PValue(iters=1000)"
   ]
  },
  {
   "cell_type": "code",
   "execution_count": 35,
   "id": "5aeef403",
   "metadata": {},
   "outputs": [],
   "source": []
  },
  {
   "cell_type": "code",
   "execution_count": 30,
   "id": "cc99360f",
   "metadata": {},
   "outputs": [
    {
     "name": "stdout",
     "output_type": "stream",
     "text": [
      "71\t0.16\t0.00\t0.00\t0.00\n"
     ]
    }
   ],
   "source": [
    "print('%d\\t%0.2f\\t%0.2f\\t%0.2f\\t%0.2f' % (n, p1, p2, p3, p4))"
   ]
  },
  {
   "cell_type": "code",
   "execution_count": 42,
   "id": "63937732",
   "metadata": {},
   "outputs": [],
   "source": [
    "n = len(live)\n",
    "for _ in range(7):\n",
    "    sample = thinkstats2.SampleRows(live, n)\n",
    "    RandomTestDataset(sample)\n",
    "    n //= 2"
   ]
  },
  {
   "cell_type": "code",
   "execution_count": 41,
   "id": "70596a09",
   "metadata": {},
   "outputs": [
    {
     "name": "stdout",
     "output_type": "stream",
     "text": [
      "0\t0.16\t0.00\t0.00\t0.00\n"
     ]
    }
   ],
   "source": [
    "9148\t0.16\t0.00\t0.00\t0.00\n",
    "4574\t0.24\t0.00\t0.00\t0.00\n",
    "2287\t0.80\t0.15\t0.00\t0.00\n",
    "1143\t0.64\t0.03\t0.00\t0.00\n",
    "571\t0.36\t0.78\t0.88\t0.03\n",
    "285\t0.71\t0.03\t0.53\t0.05\n",
    "142\t0.12\t0.62\t0.54\t0.07"
   ]
  },
  {
   "cell_type": "code",
   "execution_count": 43,
   "id": "246c81d1",
   "metadata": {},
   "outputs": [],
   "source": [
    "#What happens to the p-values of these tests as sample size decreases? \n",
    "#What is the smallest sample size that yields a positive test?"
   ]
  },
  {
   "cell_type": "code",
   "execution_count": 44,
   "id": "330cd79a",
   "metadata": {},
   "outputs": [],
   "source": [
    "# data samples with large sizes have a positive p value and become negative with reduction in data set size"
   ]
  },
  {
   "cell_type": "code",
   "execution_count": 45,
   "id": "2e547ec2",
   "metadata": {},
   "outputs": [],
   "source": [
    "#Exercise: In testing a difference in means, on page 104, we simulated the null hypothesis by permutation; \n",
    "#that is, we treated the observed values as if they represented the entire population, and randomly \n",
    "#that is, we treated the observed values as if they represented the entire population, and randomly \n",
    "#assigned the members of the population to the two groups.\n",
    "\n",
    "#An alternative is to use the sample to estimate the distribution for the population, \n",
    "#then draw a random sample from that distribution. This process is called resampling. \n",
    "#There are several ways to implement resampling, but one of the simplest is to draw a \n",
    "#sample with replacement from the observed values, as in Section 9.10.\n",
    "\n",
    "#Write a class named DiffMeansResample that inherits from DiffMeansPermute \n",
    "#and overrides RunModel to implement resampling, rather than permutation.\n",
    "\n",
    "#Use this model to test the differences in pregnancy length and birth weight.\n",
    "#How much does the model affect the results?"
   ]
  },
  {
   "cell_type": "code",
   "execution_count": 48,
   "id": "912201c3",
   "metadata": {},
   "outputs": [],
   "source": [
    "# defining class to test difference in means\n",
    "class DiffMeansResample(DiffMeansPermute):\n",
    "    \"\"\"Tests a difference in means using resampling.\"\"\"\n",
    "    \n",
    "    def RunModel(self):\n",
    "     \n",
    "        group1 = np.random.choice(self.pool, self.n, replace=True)\n",
    "        group2 = np.random.choice(self.pool, self.m, replace=True)\n",
    "        return group1, group2"
   ]
  },
  {
   "cell_type": "code",
   "execution_count": 50,
   "id": "4f6c7a74",
   "metadata": {},
   "outputs": [],
   "source": [
    "# resampling test\n",
    "\n",
    "def RunResampleTest(firsts, others):\n",
    "   \n",
    "    data = firsts.prglngth.values, others.prglngth.values\n",
    "    ht = DiffMeansResample(data)\n",
    "    p_value = ht.PValue(iters=10000)\n",
    "    print('\\ndiff means resample preglength')\n",
    "    print('p-value =', p_value)\n",
    "    print('actual =', ht.actual)\n",
    "    print('ts max =', ht.MaxTestStat())\n",
    "\n",
    "    data = (firsts.totalwgt_lb.dropna().values,\n",
    "            others.totalwgt_lb.dropna().values)\n",
    "    ht = DiffMeansPermute(data)\n",
    "    p_value = ht.PValue(iters=10000)\n",
    "    print('\\ndiff means resample birthweight')\n",
    "    print('p-value =', p_value)\n",
    "    print('actual =', ht.actual)\n",
    "    print('ts max =', ht.MaxTestStat())"
   ]
  },
  {
   "cell_type": "code",
   "execution_count": 51,
   "id": "4bb5592a",
   "metadata": {
    "scrolled": true
   },
   "outputs": [
    {
     "name": "stdout",
     "output_type": "stream",
     "text": [
      "\n",
      "diff means resample preglength\n",
      "p-value = 0.1588\n",
      "actual = 0.07803726677754952\n",
      "ts max = 0.2288487192611015\n",
      "\n",
      "diff means resample birthweight\n",
      "p-value = 0.0\n",
      "actual = 0.12476118453549034\n",
      "ts max = 0.11858590284612625\n"
     ]
    }
   ],
   "source": [
    "RunResampleTest(firsts, others)"
   ]
  },
  {
   "cell_type": "code",
   "execution_count": 52,
   "id": "036d8d91",
   "metadata": {},
   "outputs": [],
   "source": [
    "#Resampling Vs.Permutation does not drastically impact results\n",
    "# With the generated information, we cannot choose one model over the other with certainty"
   ]
  },
  {
   "cell_type": "code",
   "execution_count": 53,
   "id": "77caab0a",
   "metadata": {},
   "outputs": [],
   "source": [
    "#Exercise: Using the data from the BRFSS, compute the linear least squares fit for log(weight) \n",
    "#versus height. How would you best present the estimated parameters for a model like this where \n",
    "#one of the variables is log-transformed? If you were trying to guess someone’s weight, how much \n",
    "#would it help to know their height?\n",
    "\n",
    "#Like the NSFG, the BRFSS oversamples some groups and provides a sampling weight for each respondent. \n",
    "#In the BRFSS data, the variable name for these weights is totalwt. Use resampling, with and without \n",
    "#weights, to estimate the mean height of respondents in the BRFSS, the standard error of the mean, \n",
    "#and a 90% confidence interval. How much does correct weighting affect the estimates?\n",
    "\n",
    "#Read the BRFSS data and extract heights and log weights."
   ]
  },
  {
   "cell_type": "code",
   "execution_count": 54,
   "id": "3d241b57",
   "metadata": {},
   "outputs": [],
   "source": [
    "# reading BRFSS data\n",
    "import brfss\n",
    "\n",
    "df = brfss.ReadBrfss(nrows=None)\n",
    "df = df.dropna(subset=['htm3', 'wtkg2'])\n",
    "heights, weights = df.htm3, df.wtkg2\n",
    "log_weights = np.log10(weights)"
   ]
  },
  {
   "cell_type": "code",
   "execution_count": 55,
   "id": "dcf7096b",
   "metadata": {},
   "outputs": [
    {
     "data": {
      "text/plain": [
       "(0.9930804163918064, 0.005281454169417842)"
      ]
     },
     "execution_count": 55,
     "metadata": {},
     "output_type": "execute_result"
    }
   ],
   "source": [
    "# Definig intercept and slope\n",
    "\n",
    "\n",
    "inter, slope = thinkstats2.LeastSquares(heights, log_weights)\n",
    "inter, slope"
   ]
  },
  {
   "cell_type": "code",
   "execution_count": 64,
   "id": "020bb0da",
   "metadata": {},
   "outputs": [
    {
     "data": {
      "image/png": "[encoded data removed]",
      "text/plain": [
       "<Figure size 432x288 with 1 Axes>"
      ]
     },
     "metadata": {
      "needs_background": "light"
     },
     "output_type": "display_data"
    }
   ],
   "source": [
    "# scatterplot\n",
    "\n",
    "thinkplot.Scatter(heights, log_weights, alpha=0.01, s=7)\n",
    "fxs, fys = thinkstats2.FitLine(heights, inter, slope)\n",
    "thinkplot.Plot(fxs, fys, color='black')\n",
    "thinkplot.Config(xlabel='HEIGHT in Centimeters', ylabel='log10 WEIGHT in KILOGRAMS', legend=False)"
   ]
  },
  {
   "cell_type": "code",
   "execution_count": 65,
   "id": "452060bb",
   "metadata": {},
   "outputs": [
    {
     "data": {
      "image/png": "[encoded data removed]",
      "text/plain": [
       "<Figure size 432x288 with 1 Axes>"
      ]
     },
     "metadata": {
      "needs_background": "light"
     },
     "output_type": "display_data"
    }
   ],
   "source": [
    "# Scatterplot using Linear scale\n",
    "\n",
    "thinkplot.Scatter(heights, weights, alpha=0.01, s=5)\n",
    "fxs, fys = thinkstats2.FitLine(heights, inter, slope)\n",
    "thinkplot.Plot(fxs, 10**fys, color='green')\n",
    "thinkplot.Config(xlabel='HEIGHT in Centimeters', ylabel='WEIGHT in KILOGRAMS', legend=False)"
   ]
  },
  {
   "cell_type": "code",
   "execution_count": 66,
   "id": "e11a8b28",
   "metadata": {},
   "outputs": [
    {
     "data": {
      "image/png": "[encoded data removed]",
      "text/plain": [
       "<Figure size 432x288 with 1 Axes>"
      ]
     },
     "metadata": {
      "needs_background": "light"
     },
     "output_type": "display_data"
    }
   ],
   "source": [
    "# percentiles of the residuals\n",
    "\n",
    "res = thinkstats2.Residuals(heights, log_weights, inter, slope)\n",
    "df['residual'] = res\n",
    "\n",
    "bins = np.arange(130, 210, 5)\n",
    "indices = np.digitize(df.htm3, bins)\n",
    "groups = df.groupby(indices)\n",
    "\n",
    "means = [group.htm3.mean() for i, group in groups][1:-1]\n",
    "cdfs = [thinkstats2.Cdf(group.residual) for i, group in groups][1:-1]\n",
    "\n",
    "thinkplot.PrePlot(3)\n",
    "for percent in [75, 50, 25]:\n",
    "    ys = [cdf.Percentile(percent) for cdf in cdfs]\n",
    "    label = '%dth' % percent\n",
    "    thinkplot.Plot(means, ys, label=label)\n",
    "    \n",
    "thinkplot.Config(xlabel='height (cm)', ylabel='residual weight (kg)', legend=False)"
   ]
  },
  {
   "cell_type": "code",
   "execution_count": 67,
   "id": "795a7ce1",
   "metadata": {},
   "outputs": [],
   "source": [
    "#lines are flat for a greater part of the range, \n",
    "#which indicates a linear relationship between height and weight.\n",
    "\n",
    "# The lines are to some extent parallel to each other, which means  \n",
    "# that the residuals variance is thesame across the range."
   ]
  },
  {
   "cell_type": "code",
   "execution_count": 68,
   "id": "13a537b9",
   "metadata": {},
   "outputs": [
    {
     "data": {
      "text/plain": [
       "0.5317282605983464"
      ]
     },
     "execution_count": 68,
     "metadata": {},
     "output_type": "execute_result"
    }
   ],
   "source": [
    "# correlation\n",
    "\n",
    "rho = thinkstats2.Corr(heights, log_weights)\n",
    "rho"
   ]
  },
  {
   "cell_type": "code",
   "execution_count": 69,
   "id": "4b527bfd",
   "metadata": {},
   "outputs": [
    {
     "data": {
      "text/plain": [
       "0.2827349431189352"
      ]
     },
     "execution_count": 69,
     "metadata": {},
     "output_type": "execute_result"
    }
   ],
   "source": [
    "# coefficient of determination\n",
    "\n",
    "r2 = thinkstats2.CoefDetermination(log_weights, res)\n",
    "r2"
   ]
  },
  {
   "cell_type": "code",
   "execution_count": 70,
   "id": "86ae7b23",
   "metadata": {},
   "outputs": [
    {
     "data": {
      "text/plain": [
       "7.827072323607354e-15"
      ]
     },
     "execution_count": 70,
     "metadata": {},
     "output_type": "execute_result"
    }
   ],
   "source": [
    "# Test if  𝑅2=𝜌2 \n",
    "\n",
    "rho**2 - r2"
   ]
  },
  {
   "cell_type": "code",
   "execution_count": 71,
   "id": "dea7c98f",
   "metadata": {},
   "outputs": [
    {
     "data": {
      "text/plain": [
       "0.10320725030004853"
      ]
     },
     "execution_count": 71,
     "metadata": {},
     "output_type": "execute_result"
    }
   ],
   "source": [
    "#Compute Std(ys), which is the RMSE of predictions that don't use height.\n",
    "\n",
    "std_ys = thinkstats2.Std(log_weights)\n",
    "std_ys"
   ]
  },
  {
   "cell_type": "code",
   "execution_count": 72,
   "id": "f051dece",
   "metadata": {},
   "outputs": [
    {
     "data": {
      "text/plain": [
       "0.08740777080416083"
      ]
     },
     "execution_count": 72,
     "metadata": {},
     "output_type": "execute_result"
    }
   ],
   "source": [
    "# Compute Std(res), the RMSE of predictions that do use height.\n",
    "\n",
    "std_res = thinkstats2.Std(res)\n",
    "std_res"
   ]
  },
  {
   "cell_type": "code",
   "execution_count": 73,
   "id": "7debc8f1",
   "metadata": {},
   "outputs": [
    {
     "data": {
      "text/plain": [
       "0.1530849765879313"
      ]
     },
     "execution_count": 73,
     "metadata": {},
     "output_type": "execute_result"
    }
   ],
   "source": [
    "# How much does height information reduce RMSE?\n",
    "\n",
    "1 - std_res / std_ys"
   ]
  },
  {
   "cell_type": "code",
   "execution_count": 74,
   "id": "28686691",
   "metadata": {},
   "outputs": [],
   "source": [
    "#  resampling to compute sampling distributions for inter and slope.\n",
    "\n",
    "t = []\n",
    "for _ in range(100):\n",
    "    sample = thinkstats2.ResampleRows(df)\n",
    "    estimates = thinkstats2.LeastSquares(sample.htm3, np.log10(sample.wtkg2))\n",
    "    t.append(estimates)\n",
    "\n",
    "inters, slopes = zip(*t)"
   ]
  },
  {
   "cell_type": "code",
   "execution_count": 75,
   "id": "923f3212",
   "metadata": {},
   "outputs": [
    {
     "data": {
      "text/plain": [
       "{'xscale': 'linear', 'yscale': 'linear'}"
      ]
     },
     "execution_count": 75,
     "metadata": {},
     "output_type": "execute_result"
    },
    {
     "data": {
      "image/png": "[encoded data removed]",
      "text/plain": [
       "<Figure size 432x288 with 1 Axes>"
      ]
     },
     "metadata": {
      "needs_background": "light"
     },
     "output_type": "display_data"
    }
   ],
   "source": [
    "# sampling distribution of slope.\n",
    "\n",
    "cdf = thinkstats2.Cdf(slopes)\n",
    "thinkplot.Cdf(cdf)"
   ]
  },
  {
   "cell_type": "code",
   "execution_count": 76,
   "id": "3fd99531",
   "metadata": {},
   "outputs": [
    {
     "data": {
      "text/plain": [
       "0"
      ]
     },
     "execution_count": 76,
     "metadata": {},
     "output_type": "execute_result"
    }
   ],
   "source": [
    "# Compute the p-value of the slope.\n",
    "\n",
    "pvalue = cdf[0]\n",
    "pvalue"
   ]
  },
  {
   "cell_type": "code",
   "execution_count": 77,
   "id": "63bc7a80",
   "metadata": {},
   "outputs": [
    {
     "data": {
      "text/plain": [
       "(0.005256578657653669, 0.005303482922607557)"
      ]
     },
     "execution_count": 77,
     "metadata": {},
     "output_type": "execute_result"
    }
   ],
   "source": [
    "# Compute the 90% confidence interval of slope.\n",
    "\n",
    "ci = cdf.Percentile(5), cdf.Percentile(95)\n",
    "ci"
   ]
  },
  {
   "cell_type": "code",
   "execution_count": 78,
   "id": "7ec00cb0",
   "metadata": {},
   "outputs": [
    {
     "data": {
      "text/plain": [
       "0.005280000511244196"
      ]
     },
     "execution_count": 78,
     "metadata": {},
     "output_type": "execute_result"
    }
   ],
   "source": [
    "#Compute the mean of the sampling distribution.\n",
    "\n",
    "mean = thinkstats2.Mean(slopes)\n",
    "mean"
   ]
  },
  {
   "cell_type": "code",
   "execution_count": 79,
   "id": "9284e9fb",
   "metadata": {},
   "outputs": [
    {
     "data": {
      "text/plain": [
       "1.4720053325893681e-05"
      ]
     },
     "execution_count": 79,
     "metadata": {},
     "output_type": "execute_result"
    }
   ],
   "source": [
    "#Compute the standard deviation of the sampling distribution, which is the standard error\n",
    "\n",
    "stderr = thinkstats2.Std(slopes)\n",
    "stderr"
   ]
  },
  {
   "cell_type": "code",
   "execution_count": 81,
   "id": "7ae87e0c",
   "metadata": {},
   "outputs": [],
   "source": [
    "# Defining function\n",
    "\n",
    "def Summarize(estimates, actual=None):\n",
    "    mean = Mean(estimates)\n",
    "    stderr = Std(estimates, mu=actual)\n",
    "    cdf = thinkstats2.Cdf(estimates)\n",
    "    ci = cdf.ConfidenceInterval(90)\n",
    "    print('mean, SE, CI', mean, stderr, ci)"
   ]
  },
  {
   "cell_type": "code",
   "execution_count": 83,
   "id": "67c2102f",
   "metadata": {},
   "outputs": [],
   "source": [
    "# Importing Mean module\n",
    "\n",
    "from thinkstats2 import Mean, MeanVar, Var, Std, Cov\n",
    "\n",
    "def LeastSquares(xs, ys):\n",
    "    meanx, varx = MeanVar(xs)\n",
    "    meany = Mean(ys)\n",
    "\n",
    "    slope = Cov(xs, ys, meanx, meany) / varx\n",
    "    inter = meany - slope * meanx\n",
    "\n",
    "    return inter, slope"
   ]
  },
  {
   "cell_type": "code",
   "execution_count": 84,
   "id": "85ca02a3",
   "metadata": {},
   "outputs": [
    {
     "name": "stdout",
     "output_type": "stream",
     "text": [
      "mean, SE, CI 168.95452775419878 0.0204496137776296 (168.92170415731925, 168.98547363527962)\n"
     ]
    }
   ],
   "source": [
    "# Resample rows without weights, compute mean height, and summarize results.\n",
    "\n",
    "estimates_unweighted = [thinkstats2.ResampleRows(df).htm3.mean() for _ in range(100)]\n",
    "Summarize(estimates_unweighted)"
   ]
  },
  {
   "cell_type": "code",
   "execution_count": 89,
   "id": "56ef9ba1",
   "metadata": {},
   "outputs": [],
   "source": [
    "#Defining function\n",
    "\n",
    "def ResampleRowsWeighted(df, column='finalwgt'):\n",
    "    weights = df[column]\n",
    "    cdf = thinkstats2.Cdf(dict(weights))\n",
    "    indices = cdf.Sample(len(weights))\n",
    "    sample = df.loc[indices]\n",
    "    return sample"
   ]
  },
  {
   "cell_type": "code",
   "execution_count": null,
   "id": "10c74c28",
   "metadata": {},
   "outputs": [],
   "source": [
    "estimates_weighted = [ResampleRowsWeighted(df, 'finalwt').htm3.mean() for _ in range(100)]\n",
    "Summarize(estimates_weighted)"
   ]
  },
  {
   "cell_type": "code",
   "execution_count": null,
   "id": "73116907",
   "metadata": {},
   "outputs": [],
   "source": [
    "# estimated men height is approx. 1.54 cms greater "
   ]
  }
 ],
 "metadata": {
  "kernelspec": {
   "display_name": "Python 3",
   "language": "python",
   "name": "python3"
  },
  "language_info": {
   "codemirror_mode": {
    "name": "ipython",
    "version": 3
   },
   "file_extension": ".py",
   "mimetype": "text/x-python",
   "name": "python",
   "nbconvert_exporter": "python",
   "pygments_lexer": "ipython3",
   "version": "3.8.8"
  }
 },
 "nbformat": 4,
 "nbformat_minor": 5
}
