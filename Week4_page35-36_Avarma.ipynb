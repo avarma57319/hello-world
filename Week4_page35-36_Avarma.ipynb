{
 "cells": [
  {
   "cell_type": "code",
   "execution_count": 1,
   "id": "6633f6d9",
   "metadata": {},
   "outputs": [],
   "source": [
    "from __future__ import print_function, division\n",
    "\n",
    "import sys\n",
    "import numpy as np\n",
    "import thinkstats2\n",
    "\n",
    "from collections import defaultdict"
   ]
  },
  {
   "cell_type": "code",
   "execution_count": 2,
   "id": "2b29b39c",
   "metadata": {},
   "outputs": [],
   "source": [
    "from __future__ import print_function, division\n",
    "\n",
    "%matplotlib inline\n",
    "\n",
    "import numpy as np\n",
    "\n",
    "import nsfg\n",
    "import first\n",
    "import thinkstats2\n",
    "import thinkplot"
   ]
  },
  {
   "cell_type": "code",
   "execution_count": 3,
   "id": "fd9c1756",
   "metadata": {},
   "outputs": [],
   "source": [
    "# Page 35-36: 3-1 \n",
    "#Exercise: Something like the class size paradox appears if you survey children and ask how many children are in their family. \n",
    "#Families with many children are more likely to appear in your sample, and families with no children have no chance to be in \n",
    "#the sample.\n",
    "#Use the NSFG respondent variable numkdhh to construct the actual distribution for the number of children under 18 in the respondents' households.\n",
    "#Now compute the biased distribution we would see if we surveyed the children and asked them how many children under \n",
    "#18 (including themselves) are in their household.\n",
    "#Plot the actual and biased distributions, and compute their means."
   ]
  },
  {
   "cell_type": "code",
   "execution_count": 4,
   "id": "70913c79",
   "metadata": {},
   "outputs": [],
   "source": [
    "resp = nsfg.ReadFemResp()"
   ]
  },
  {
   "cell_type": "code",
   "execution_count": 5,
   "id": "02e26eeb",
   "metadata": {},
   "outputs": [],
   "source": [
    "pmf = thinkstats2.Pmf(resp.numkdhh, label='numkdhh')"
   ]
  },
  {
   "cell_type": "code",
   "execution_count": 6,
   "id": "585799cc",
   "metadata": {},
   "outputs": [
    {
     "data": {
      "image/png": "[encoded data removed]",
      "text/plain": [
       "<Figure size 432x288 with 1 Axes>"
      ]
     },
     "metadata": {
      "needs_background": "light"
     },
     "output_type": "display_data"
    }
   ],
   "source": [
    "thinkplot.Pmf(pmf)\n",
    "thinkplot.Config(xlabel='COUNT OF CHILDREN', ylabel='PMF VALUE')"
   ]
  },
  {
   "cell_type": "code",
   "execution_count": 7,
   "id": "4aef77ea",
   "metadata": {},
   "outputs": [
    {
     "ename": "NameError",
     "evalue": "name 'BiasPmf' is not defined",
     "output_type": "error",
     "traceback": [
      "\u001b[1;31m---------------------------------------------------------------------------\u001b[0m",
      "\u001b[1;31mNameError\u001b[0m                                 Traceback (most recent call last)",
      "\u001b[1;32m<ipython-input-7-bdaacf3bd0bb>\u001b[0m in \u001b[0;36m<module>\u001b[1;34m\u001b[0m\n\u001b[1;32m----> 1\u001b[1;33m \u001b[0mbias_set\u001b[0m \u001b[1;33m=\u001b[0m \u001b[0mBiasPmf\u001b[0m\u001b[1;33m(\u001b[0m\u001b[0mpmf\u001b[0m\u001b[1;33m,\u001b[0m \u001b[0mlabel\u001b[0m\u001b[1;33m=\u001b[0m\u001b[1;34m'biased'\u001b[0m\u001b[1;33m)\u001b[0m\u001b[1;33m\u001b[0m\u001b[1;33m\u001b[0m\u001b[0m\n\u001b[0m",
      "\u001b[1;31mNameError\u001b[0m: name 'BiasPmf' is not defined"
     ]
    }
   ],
   "source": [
    "bias_set = BiasPmf(pmf, label='biased')"
   ]
  },
  {
   "cell_type": "code",
   "execution_count": 8,
   "id": "96012d5d",
   "metadata": {},
   "outputs": [
    {
     "ename": "NameError",
     "evalue": "name 'BiasPmf' is not defined",
     "output_type": "error",
     "traceback": [
      "\u001b[1;31m---------------------------------------------------------------------------\u001b[0m",
      "\u001b[1;31mNameError\u001b[0m                                 Traceback (most recent call last)",
      "\u001b[1;32m<ipython-input-8-5d7f3b13fd12>\u001b[0m in \u001b[0;36m<module>\u001b[1;34m\u001b[0m\n\u001b[1;32m----> 1\u001b[1;33m \u001b[0mbiased\u001b[0m \u001b[1;33m=\u001b[0m \u001b[0mBiasPmf\u001b[0m\u001b[1;33m(\u001b[0m\u001b[0mpmf\u001b[0m\u001b[1;33m,\u001b[0m \u001b[0mlabel\u001b[0m\u001b[1;33m=\u001b[0m\u001b[1;34m'biased'\u001b[0m\u001b[1;33m)\u001b[0m\u001b[1;33m\u001b[0m\u001b[1;33m\u001b[0m\u001b[0m\n\u001b[0m",
      "\u001b[1;31mNameError\u001b[0m: name 'BiasPmf' is not defined"
     ]
    }
   ],
   "source": [
    "biased = BiasPmf(pmf, label='biased')"
   ]
  },
  {
   "cell_type": "code",
   "execution_count": 9,
   "id": "2b330673",
   "metadata": {},
   "outputs": [],
   "source": [
    "# Creating function for BiasPmf\n",
    "def BiasPmf(pmf, label):\n",
    "    new_pmf = pmf.Copy(label=label)\n",
    "\n",
    "    for x, p in pmf.Items():\n",
    "        new_pmf.Mult(x, x)\n",
    "        \n",
    "    new_pmf.Normalize()\n",
    "    return new_pmf"
   ]
  },
  {
   "cell_type": "code",
   "execution_count": 10,
   "id": "937264bb",
   "metadata": {},
   "outputs": [],
   "source": [
    "biased = BiasPmf(pmf, label='biased')"
   ]
  },
  {
   "cell_type": "code",
   "execution_count": 11,
   "id": "b70d0c55",
   "metadata": {},
   "outputs": [
    {
     "data": {
      "image/png": "[encoded data removed]",
      "text/plain": [
       "<Figure size 432x288 with 1 Axes>"
      ]
     },
     "metadata": {
      "needs_background": "light"
     },
     "output_type": "display_data"
    }
   ],
   "source": [
    "biased_pmf = BiasPmf(pmf, label='CURRENT OBSERVATIONS')\n",
    "thinkplot.PrePlot(2)\n",
    "thinkplot.Pmfs([pmf, biased_pmf])\n",
    "thinkplot.Config(xlabel='DATA CLASS SIZE', ylabel='PMF')"
   ]
  },
  {
   "cell_type": "code",
   "execution_count": 12,
   "id": "aad76155",
   "metadata": {},
   "outputs": [
    {
     "name": "stdout",
     "output_type": "stream",
     "text": [
      "REAL MEAN 1.024205155043831\n",
      "OBSERVED MEAN 2.403679100664282\n"
     ]
    }
   ],
   "source": [
    "print('REAL MEAN', pmf.Mean())\n",
    "print('OBSERVED MEAN', biased_pmf.Mean())"
   ]
  },
  {
   "cell_type": "code",
   "execution_count": 13,
   "id": "da3ddaf9",
   "metadata": {},
   "outputs": [
    {
     "data": {
      "text/plain": [
       "1.024205155043831"
      ]
     },
     "execution_count": 13,
     "metadata": {},
     "output_type": "execute_result"
    }
   ],
   "source": [
    "pmf.Mean()"
   ]
  },
  {
   "cell_type": "code",
   "execution_count": 14,
   "id": "8a70ccac",
   "metadata": {},
   "outputs": [
    {
     "data": {
      "text/plain": [
       "2.403679100664282"
      ]
     },
     "execution_count": 14,
     "metadata": {},
     "output_type": "execute_result"
    }
   ],
   "source": [
    "biased.Mean()"
   ]
  },
  {
   "cell_type": "code",
   "execution_count": 15,
   "id": "25d23d85",
   "metadata": {},
   "outputs": [],
   "source": [
    "from __future__ import print_function\n",
    "\n",
    "import numpy as np\n",
    "import sys\n",
    "\n",
    "import nsfg\n",
    "import first\n",
    "import thinkstats2\n",
    "import thinkplot"
   ]
  },
  {
   "cell_type": "code",
   "execution_count": 16,
   "id": "5e8c8058",
   "metadata": {},
   "outputs": [],
   "source": [
    "import statistics"
   ]
  },
  {
   "cell_type": "code",
   "execution_count": 17,
   "id": "061d0588",
   "metadata": {},
   "outputs": [
    {
     "ename": "IndentationError",
     "evalue": "expected an indented block (<ipython-input-17-dfefb936050b>, line 4)",
     "output_type": "error",
     "traceback": [
      "\u001b[1;36m  File \u001b[1;32m\"<ipython-input-17-dfefb936050b>\"\u001b[1;36m, line \u001b[1;32m4\u001b[0m\n\u001b[1;33m    mean = 0.0\u001b[0m\n\u001b[1;37m    ^\u001b[0m\n\u001b[1;31mIndentationError\u001b[0m\u001b[1;31m:\u001b[0m expected an indented block\n"
     ]
    }
   ],
   "source": []
  },
  {
   "cell_type": "code",
   "execution_count": 18,
   "id": "9b02b0c8",
   "metadata": {},
   "outputs": [],
   "source": [
    "# Writing new function: PmfMean\n",
    "\n",
    "def PmfMean(pmf):\n",
    "    mean = 0.0\n",
    "    for x, p in pmf.d.items():\n",
    "        mean += p * x # Appending new value to variable\n",
    "    return mean"
   ]
  },
  {
   "cell_type": "code",
   "execution_count": 19,
   "id": "5537875a",
   "metadata": {},
   "outputs": [],
   "source": [
    "# Writing new function PmfVar\n",
    "\n",
    "def PmfVar(pmf, mu=None):\n",
    "    if mu is None:\n",
    "        mu = pmf.Mean()\n",
    "    var = 0.0\n",
    "    for x, p in pmf.d.items():\n",
    "        var += p * (x - mu) ** 2 # Appending new value to variable\n",
    "    return var"
   ]
  },
  {
   "cell_type": "code",
   "execution_count": 20,
   "id": "99e7151d",
   "metadata": {},
   "outputs": [],
   "source": [
    "# Checking for differences between the two PMFs (as per solution in chapter 3 code)\n",
    "\n",
    "def PairWiseDifferences(live):\n",
    "    \n",
    "    live = live[live.prglngth >= 37]\n",
    "    preg_map = nsfg.MakePregMap(live)\n",
    "\n",
    "    diffs = []\n",
    "    for caseid, indices in preg_map.items():\n",
    "        lengths = live.loc[indices].prglngth.values\n",
    "        if len(lengths) >= 2:\n",
    "            diffs.extend(Diffs(lengths))\n",
    "\n",
    "    mean = thinkstats2.Mean(diffs)\n",
    "    print('Mean difference between pairs', mean)\n",
    "\n",
    "    pmf = thinkstats2.Pmf(diffs)\n",
    "    thinkplot.Hist(pmf, align='center')\n",
    "    thinkplot.Show(xlabel='Difference in weeks',\n",
    "                   ylabel='PMF')\n",
    "\n"
   ]
  },
  {
   "cell_type": "code",
   "execution_count": 21,
   "id": "619c7f82",
   "metadata": {},
   "outputs": [
    {
     "ename": "IndentationError",
     "evalue": "unexpected indent (<ipython-input-21-a7f13a69a9c9>, line 2)",
     "output_type": "error",
     "traceback": [
      "\u001b[1;36m  File \u001b[1;32m\"<ipython-input-21-a7f13a69a9c9>\"\u001b[1;36m, line \u001b[1;32m2\u001b[0m\n\u001b[1;33m    PairWiseDifferences(live)\u001b[0m\n\u001b[1;37m    ^\u001b[0m\n\u001b[1;31mIndentationError\u001b[0m\u001b[1;31m:\u001b[0m unexpected indent\n"
     ]
    }
   ],
   "source": [
    "     live, firsts, others = first.MakeFrames()\n",
    "    PairWiseDifferences(live)\n",
    "\n",
    "    # test PmfMean and PmfVar\n",
    "    prglngth = live.prglngth\n",
    "    pmf = thinkstats2.Pmf(prglngth)\n",
    "    mean = PmfMean(pmf)\n",
    "    var = PmfVar(pmf)\n",
    "\n",
    "    assert(mean == pmf.Mean())\n",
    "    assert(var == pmf.Var())\n",
    "    print('mean/var preg length', mean, var)\n",
    "\n",
    "    print('%s: All tests passed.' % script)"
   ]
  },
  {
   "cell_type": "code",
   "execution_count": 22,
   "id": "2c8c04a7",
   "metadata": {},
   "outputs": [
    {
     "ename": "IndentationError",
     "evalue": "unexpected indent (<ipython-input-22-1d470f4dfdcc>, line 2)",
     "output_type": "error",
     "traceback": [
      "\u001b[1;36m  File \u001b[1;32m\"<ipython-input-22-1d470f4dfdcc>\"\u001b[1;36m, line \u001b[1;32m2\u001b[0m\n\u001b[1;33m    pmf = thinkstats2.Pmf(prglngth)\u001b[0m\n\u001b[1;37m    ^\u001b[0m\n\u001b[1;31mIndentationError\u001b[0m\u001b[1;31m:\u001b[0m unexpected indent\n"
     ]
    }
   ],
   "source": [
    " prglngth = live.prglngth\n",
    "    pmf = thinkstats2.Pmf(prglngth)\n",
    "    mean = PmfMean(pmf)\n",
    "    var = PmfVar(pmf)\n"
   ]
  },
  {
   "cell_type": "code",
   "execution_count": 23,
   "id": "77006ee7",
   "metadata": {},
   "outputs": [
    {
     "ename": "TypeError",
     "evalue": "main() takes 1 positional argument but 3 were given",
     "output_type": "error",
     "traceback": [
      "\u001b[1;31m---------------------------------------------------------------------------\u001b[0m",
      "\u001b[1;31mTypeError\u001b[0m                                 Traceback (most recent call last)",
      "\u001b[1;32m<ipython-input-23-40f9800c298f>\u001b[0m in \u001b[0;36m<module>\u001b[1;34m\u001b[0m\n\u001b[0;32m     20\u001b[0m \u001b[1;33m\u001b[0m\u001b[0m\n\u001b[0;32m     21\u001b[0m \u001b[1;32mif\u001b[0m \u001b[0m__name__\u001b[0m \u001b[1;33m==\u001b[0m \u001b[1;34m'__main__'\u001b[0m\u001b[1;33m:\u001b[0m\u001b[1;33m\u001b[0m\u001b[1;33m\u001b[0m\u001b[0m\n\u001b[1;32m---> 22\u001b[1;33m     \u001b[0mmain\u001b[0m\u001b[1;33m(\u001b[0m\u001b[1;33m*\u001b[0m\u001b[0msys\u001b[0m\u001b[1;33m.\u001b[0m\u001b[0margv\u001b[0m\u001b[1;33m)\u001b[0m\u001b[1;33m\u001b[0m\u001b[1;33m\u001b[0m\u001b[0m\n\u001b[0m",
      "\u001b[1;31mTypeError\u001b[0m: main() takes 1 positional argument but 3 were given"
     ]
    }
   ],
   "source": [
    "def main(script):\n",
    "    \n",
    "\n",
    "  \n",
    "    live, firsts, others = first.MakeFrames()\n",
    "    PairWiseDifferences(live)\n",
    "\n",
    "    # test PmfMean and PmfVar\n",
    "    prglngth = live.prglngth\n",
    "    pmf = thinkstats2.Pmf(prglngth)\n",
    "    mean = PmfMean(pmf)\n",
    "    var = PmfVar(pmf)\n",
    "\n",
    "    assert(mean == pmf.Mean())\n",
    "    assert(var == pmf.Var())\n",
    "    print('mean/var preg length', mean, var)\n",
    "\n",
    "    print('%s: All tests passed.' % script)\n",
    "\n",
    "\n",
    "if __name__ == '__main__':\n",
    "    main(*sys.argv)\n"
   ]
  },
  {
   "cell_type": "code",
   "execution_count": null,
   "id": "2b442099",
   "metadata": {},
   "outputs": [],
   "source": []
  }
 ],
 "metadata": {
  "kernelspec": {
   "display_name": "Python 3",
   "language": "python",
   "name": "python3"
  },
  "language_info": {
   "codemirror_mode": {
    "name": "ipython",
    "version": 3
   },
   "file_extension": ".py",
   "mimetype": "text/x-python",
   "name": "python",
   "nbconvert_exporter": "python",
   "pygments_lexer": "ipython3",
   "version": "3.8.8"
  }
 },
 "nbformat": 4,
 "nbformat_minor": 5
}
