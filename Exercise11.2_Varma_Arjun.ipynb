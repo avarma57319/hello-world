{
 "cells": [
  {
   "cell_type": "code",
   "execution_count": 2,
   "id": "67fc44eb",
   "metadata": {},
   "outputs": [],
   "source": [
    "# Exercise: In NSFG Cycles 6 and 7, the variable cmdivorcx contains the date of divorce for the respondent’s first marriage, \n",
    "#if applicable, encoded in century-months.\n",
    "#Compute the duration of marriages that have ended in divorce, and the duration, so far, of marriages that are ongoing. Estimate the hazard and survival curve for the duration of marriage.\n",
    "#Use resampling to take into account sampling weights, and plot data from several resamples to visualize sampling error.\n",
    "#Consider dividing the respondents into groups by decade of birth, and possibly by age at first marriage\n"
   ]
  },
  {
   "cell_type": "code",
   "execution_count": 3,
   "id": "fff38857",
   "metadata": {},
   "outputs": [],
   "source": [
    "# Import required packages\n",
    "from __future__ import print_function, division\n",
    "\n",
    "import sys\n",
    "import numpy as np\n",
    "import thinkstats2\n",
    "\n",
    "from collections import defaultdict\n"
   ]
  },
  {
   "cell_type": "code",
   "execution_count": 4,
   "id": "b76d69ad",
   "metadata": {},
   "outputs": [],
   "source": [
    "# Import required packages\n",
    "from __future__ import print_function, division\n",
    "\n",
    "%matplotlib inline\n",
    "\n",
    "import warnings\n",
    "warnings.filterwarnings('ignore', category=FutureWarning)\n",
    "\n",
    "import numpy as np\n",
    "import pandas as pd\n",
    "\n",
    "import random\n",
    "\n",
    "import thinkstats2\n",
    "import thinkplot"
   ]
  },
  {
   "cell_type": "code",
   "execution_count": 5,
   "id": "e74e831e",
   "metadata": {},
   "outputs": [],
   "source": [
    "import nsfg\n",
    "\n",
    "preg = nsfg.ReadFemPreg()\n",
    "complete = preg.query('outcome in [1, 3, 4]').prglngth\n",
    "cdf = thinkstats2.Cdf(complete, label='cdf')"
   ]
  },
  {
   "cell_type": "code",
   "execution_count": 7,
   "id": "deec5947",
   "metadata": {},
   "outputs": [],
   "source": [
    "# Create function to clean data for responses from Dataframe: resp\n",
    "\n",
    "def CleanData(resp):\n",
    "    \n",
    "    resp.cmdivorcx.replace([9998, 9999], np.nan, inplace=True)\n",
    "\n",
    "    resp['notdivorced'] = resp.cmdivorcx.isnull().astype(int)\n",
    "    resp['duration'] = (resp.cmdivorcx - resp.cmmarrhx) / 12.0\n",
    "    resp['durationsofar'] = (resp.cmintvw - resp.cmmarrhx) / 12.0\n",
    "\n",
    "    month0 = pd.to_datetime('1899-12-15')\n",
    "    dates = [month0 + pd.DateOffset(months=cm) \n",
    "             for cm in resp.cmbirth]\n",
    "    resp['decade'] = (pd.DatetimeIndex(dates).year - 1900) // 10"
   ]
  },
  {
   "cell_type": "code",
   "execution_count": 9,
   "id": "b8d6c533",
   "metadata": {},
   "outputs": [],
   "source": [
    "# defining variable\n",
    "\n",
    "resp6 = nsfg.ReadFemResp()"
   ]
  },
  {
   "cell_type": "code",
   "execution_count": 12,
   "id": "8a6e9314",
   "metadata": {},
   "outputs": [],
   "source": [
    "#Importing survival function\n",
    "\n",
    "import survival\n",
    "\n",
    "def MakeSurvivalFromCdf(cdf, label=''):\n",
    "    \"\"\"Makes a survival function based on a CDF.\n",
    "\n",
    "    cdf: Cdf\n",
    "    \n",
    "    returns: SurvivalFunction\n",
    "    \"\"\"\n",
    "    ts = cdf.xs\n",
    "    ss = 1 - cdf.ps\n",
    "    return survival.SurvivalFunction(ts, ss, label)"
   ]
  },
  {
   "cell_type": "code",
   "execution_count": 13,
   "id": "e6dd7fe7",
   "metadata": {},
   "outputs": [],
   "source": [
    "# combining data from several NSFG cycles.\n",
    "resp5 = survival.ReadFemResp1995()\n",
    "resp6 = survival.ReadFemResp2002()\n",
    "resp7 = survival.ReadFemResp2010()"
   ]
  },
  {
   "cell_type": "code",
   "execution_count": 14,
   "id": "994608fb",
   "metadata": {},
   "outputs": [],
   "source": [
    "CleanData(resp6)\n",
    "married6 = resp6[resp6.evrmarry==1]\n",
    "\n",
    "CleanData(resp7)\n",
    "married7 = resp7[resp7.evrmarry==1]"
   ]
  },
  {
   "cell_type": "code",
   "execution_count": 16,
   "id": "2e714398",
   "metadata": {},
   "outputs": [],
   "source": [
    "#Defining function to plot curves for divorce rates from response data frame\n",
    "\n",
    "def ResampleDivorceCurve(resps):\n",
    "   \n",
    "    for _ in range(11):\n",
    "        samples = [thinkstats2.ResampleRowsWeighted(resp) \n",
    "                   for resp in resps]\n",
    "        sample = pd.concat(samples, ignore_index=True)\n",
    "        PlotDivorceCurveByDecade(sample, color='#225EA8', alpha=0.1)\n",
    "\n",
    "    thinkplot.Show(xlabel='years',\n",
    "                   axis=[0, 28, 0, 1])"
   ]
  },
  {
   "cell_type": "code",
   "execution_count": 19,
   "id": "f6f4ef5a",
   "metadata": {},
   "outputs": [],
   "source": [
    "# defining function for divorce rate plots for seperate birth groups\n",
    "\n",
    "def ResampleDivorceCurveByDecade(resps):\n",
    "    \n",
    "    for i in range(41):\n",
    "        samples = [thinkstats2.ResampleRowsWeighted(resp) \n",
    "                   for resp in resps]\n",
    "        sample = pd.concat(samples, ignore_index=True)\n",
    "        groups = sample.groupby('decade')\n",
    "        if i == 0:\n",
    "            survival.AddLabelsByDecade(groups, alpha=0.7)\n",
    "\n",
    "        EstimateSurvivalByDecade(groups, alpha=0.1)\n",
    "\n",
    "    thinkplot.Config(xlabel='Years',\n",
    "                     ylabel='Fraction undivorced',\n",
    "                     axis=[0, 28, 0, 1])"
   ]
  },
  {
   "cell_type": "code",
   "execution_count": 20,
   "id": "b1e45b06",
   "metadata": {},
   "outputs": [],
   "source": [
    "# defining function for responds by 10 year periods\n",
    "\n",
    "def EstimateSurvivalByDecade(groups, **options):\n",
    "  \n",
    "    thinkplot.PrePlot(len(groups))\n",
    "    for name, group in groups:\n",
    "        _, sf = EstimateSurvival(group)\n",
    "        thinkplot.Plot(sf, **options)"
   ]
  },
  {
   "cell_type": "code",
   "execution_count": 22,
   "id": "529a5ff4",
   "metadata": {},
   "outputs": [],
   "source": [
    "# Defining function to estimate survival curve\n",
    "\n",
    "def EstimateSurvival(resp):\n",
    "   \n",
    "    complete = resp[resp.notdivorced == 0].duration.dropna()\n",
    "    ongoing = resp[resp.notdivorced == 1].durationsofar.dropna()\n",
    "\n",
    "    hf = survival.EstimateHazardFunction(complete, ongoing)\n",
    "    sf = hf.MakeSurvival()\n",
    "\n",
    "    return hf, sf"
   ]
  },
  {
   "cell_type": "code",
   "execution_count": 23,
   "id": "edbdad99",
   "metadata": {},
   "outputs": [
    {
     "data": {
      "image/png": "[encoded data removed]",
      "text/plain": [
       "<Figure size 432x288 with 1 Axes>"
      ]
     },
     "metadata": {
      "needs_background": "light"
     },
     "output_type": "display_data"
    }
   ],
   "source": [
    "# showing resample curve by two cohorts by decade\n",
    "\n",
    "ResampleDivorceCurveByDecade([married6, married7])"
   ]
  },
  {
   "cell_type": "code",
   "execution_count": null,
   "id": "4cc7d537",
   "metadata": {},
   "outputs": [],
   "source": []
  }
 ],
 "metadata": {
  "kernelspec": {
   "display_name": "Python 3",
   "language": "python",
   "name": "python3"
  },
  "language_info": {
   "codemirror_mode": {
    "name": "ipython",
    "version": 3
   },
   "file_extension": ".py",
   "mimetype": "text/x-python",
   "name": "python",
   "nbconvert_exporter": "python",
   "pygments_lexer": "ipython3",
   "version": "3.8.8"
  }
 },
 "nbformat": 4,
 "nbformat_minor": 5
}
